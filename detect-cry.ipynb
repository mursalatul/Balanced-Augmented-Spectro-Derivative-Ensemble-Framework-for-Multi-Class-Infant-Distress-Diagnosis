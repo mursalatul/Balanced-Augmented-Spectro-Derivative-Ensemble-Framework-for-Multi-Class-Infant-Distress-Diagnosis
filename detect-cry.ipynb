{
 "cells": [
  {
   "cell_type": "code",
   "execution_count": null,
   "metadata": {},
   "outputs": [],
   "source": [
    "import os\n",
    "import numpy as np\n",
    "import librosa\n",
    "from sklearn.model_selection import train_test_split\n",
    "from sklearn.ensemble import RandomForestClassifier\n",
    "from sklearn.metrics import accuracy_score\n",
    "import warnings\n",
    "warnings.filterwarnings('ignore')"
   ]
  },
  {
   "cell_type": "code",
   "execution_count": null,
   "metadata": {},
   "outputs": [],
   "source": [
    "# Function to extract MFCC features from audio files\n",
    "def extract_features(file_path):\n",
    "    try:\n",
    "        audio, sample_rate = librosa.load(file_path, res_type='kaiser_fast')\n",
    "        mfccs = librosa.feature.mfcc(y=audio, sr=sample_rate, n_mfcc=40)\n",
    "        mfccs_mean = np.mean(mfccs.T, axis=0)\n",
    "        return mfccs_mean\n",
    "    except Exception as e:\n",
    "        print(f\"Error processing {file_path}: {str(e)}\")\n",
    "        return None"
   ]
  },
  {
   "cell_type": "code",
   "execution_count": null,
   "metadata": {},
   "outputs": [],
   "source": [
    "# Prepare the dataset with debugging output\n",
    "def prepare_dataset(folder_names, base_path=\".\"):\n",
    "    X = []\n",
    "    y = []\n",
    "    \n",
    "    for label, folder in enumerate(folder_names):\n",
    "        folder_path = os.path.join(base_path, folder)\n",
    "        print(f\"\\nProcessing folder: {folder_path}\")\n",
    "        \n",
    "        if not os.path.exists(folder_path):\n",
    "            print(f\"Warning: Folder {folder_path} does not exist\")\n",
    "            continue\n",
    "            \n",
    "        files = [f for f in os.listdir(folder_path) if f.endswith('.wav')]\n",
    "        print(f\"Found {len(files)} .wav files in {folder}\")\n",
    "        \n",
    "        for file in files:\n",
    "            file_path = os.path.join(folder_path, file)\n",
    "            # print(f\"Processing: {file_path}\")\n",
    "            features = extract_features(file_path)\n",
    "            if features is not None:\n",
    "                X.append(features)\n",
    "                y.append(label)\n",
    "                # print(f\"Successfully processed {file}\")\n",
    "            else:\n",
    "                print(f\"Failed to process {file}\")\n",
    "    \n",
    "    print(f\"\\nTotal samples processed: {len(X)}\")\n",
    "    return np.array(X), np.array(y)\n"
   ]
  },
  {
   "cell_type": "code",
   "execution_count": null,
   "metadata": {},
   "outputs": [],
   "source": [
    "# Main execution\n",
    "def main():\n",
    "    folder_names = ['belly_pain', 'burping', 'discomfort', 'hungry', 'tired']\n",
    "    \n",
    "    print(\"Starting dataset preparation...\")\n",
    "    X, y = prepare_dataset(folder_names)\n",
    "    \n",
    "    \n",
    "    # Split the dataset into training and testing sets\n",
    "    X_train, X_test, y_train, y_test = train_test_split(\n",
    "        X, y, test_size=0.2, random_state=42\n",
    "    )\n",
    "    \n",
    "    print(f\"\\nTraining set size: {len(X_train)}\")\n",
    "    print(f\"Testing set size: {len(X_test)}\")\n",
    "    \n",
    "    # Create and train Random Forest classifier\n",
    "    print(\"\\nTraining Random Forest classifier...\")\n",
    "    rf_classifier = RandomForestClassifier(\n",
    "        n_estimators=100,\n",
    "        random_state=42\n",
    "    )\n",
    "    rf_classifier.fit(X_train, y_train)\n",
    "    \n",
    "    # Make predictions\n",
    "    y_pred = rf_classifier.predict(X_test)\n",
    "    \n",
    "    # Calculate and display accuracy\n",
    "    accuracy = accuracy_score(y_test, y_pred)\n",
    "    print(f\"\\nModel Accuracy: {accuracy * 100:.2f}%\")\n",
    "    \n",
    "    # Feature importance\n",
    "    feature_importance = rf_classifier.feature_importances_\n",
    "    print(\"\\nTop 5 most important MFCC features:\")\n",
    "    for i in np.argsort(feature_importance)[::-1][:5]:\n",
    "        print(f\"MFCC coefficient {i}: {feature_importance[i]:.4f}\")\n",
    "    \n",
    "    def predict_audio(file_path):\n",
    "        features = extract_features(file_path)\n",
    "        if features is not None:\n",
    "            prediction = rf_classifier.predict([features])[0]\n",
    "            return folder_names[prediction]\n",
    "        return None\n",
    "    \n",
    "    return rf_classifier, predict_audio"
   ]
  },
  {
   "cell_type": "code",
   "execution_count": null,
   "metadata": {},
   "outputs": [],
   "source": [
    "# if __name__ == \"__main__\":\n",
    "classifier, predict_function = main()\n",
    "    "
   ]
  },
  {
   "cell_type": "code",
   "execution_count": null,
   "metadata": {},
   "outputs": [],
   "source": [
    "test_file = \"D:\\defence\\model\\donateacry_corpus_cleaned_and_updated_data\\discomfort\\\\1309B82C-F146-46F0-A723-45345AFA6EA8-1430703937-1.0-f-48-dc.wav\"\n",
    "prediction = predict_function(test_file)\n",
    "print(f\"Predicted class: {prediction}\")"
   ]
  }
 ],
 "metadata": {
  "kernelspec": {
   "display_name": "Python 3",
   "language": "python",
   "name": "python3"
  },
  "language_info": {
   "codemirror_mode": {
    "name": "ipython",
    "version": 3
   },
   "file_extension": ".py",
   "mimetype": "text/x-python",
   "name": "python",
   "nbconvert_exporter": "python",
   "pygments_lexer": "ipython3",
   "version": "3.10.16"
  }
 },
 "nbformat": 4,
 "nbformat_minor": 2
}
