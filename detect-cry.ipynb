{
 "cells": [
  {
   "cell_type": "code",
   "execution_count": null,
   "metadata": {},
   "outputs": [],
   "source": [
    "import os\n",
    "import numpy as np\n",
    "import librosa\n",
    "from sklearn.model_selection import train_test_split\n",
    "from sklearn.ensemble import RandomForestClassifier, GradientBoostingClassifier\n",
    "from sklearn.metrics import accuracy_score\n",
    "from sklearn.preprocessing import StandardScaler\n",
    "from sklearn.svm import SVC\n",
    "from sklearn.linear_model import LogisticRegression\n",
    "from sklearn.neighbors import KNeighborsClassifier\n",
    "from sklearn.naive_bayes import GaussianNB\n",
    "from sklearn.neural_network import MLPClassifier\n",
    "from xgboost import XGBClassifier\n",
    "from pydub import AudioSegment\n",
    "import warnings\n",
    "warnings.filterwarnings('ignore')"
   ]
  },
  {
   "cell_type": "code",
   "execution_count": null,
   "metadata": {},
   "outputs": [],
   "source": [
    "# Function to convert audio to WAV format\n",
    "def convert_to_wav(file_path):\n",
    "    try:\n",
    "        file_ext = os.path.splitext(file_path)[1].lower()\n",
    "        if file_ext == '.wav':\n",
    "            return file_path\n",
    "        wav_path = os.path.splitext(file_path)[0] + '.wav'\n",
    "        audio = AudioSegment.from_file(file_path)\n",
    "        audio.export(wav_path, format='wav')\n",
    "        print(f\"Converted {file_path} to {wav_path}\")\n",
    "        return wav_path\n",
    "    except Exception as e:\n",
    "        print(f\"Error converting {file_path} to WAV: {str(e)}\")\n",
    "        return None"
   ]
  },
  {
   "cell_type": "code",
   "execution_count": null,
   "metadata": {},
   "outputs": [],
   "source": [
    "# Function to extract MFCC features from audio files\n",
    "def extract_features(file_path):\n",
    "    try:\n",
    "        wav_file = convert_to_wav(file_path)\n",
    "        if wav_file is None:\n",
    "            return None\n",
    "        audio, sample_rate = librosa.load(wav_file, res_type='kaiser_fast')\n",
    "        mfccs = librosa.feature.mfcc(y=audio, sr=sample_rate, n_mfcc=40)\n",
    "        mfccs_mean = np.mean(mfccs.T, axis=0)\n",
    "        return mfccs_mean\n",
    "    except Exception as e:\n",
    "        print(f\"Error processing {file_path}: {str(e)}\")\n",
    "        return None"
   ]
  },
  {
   "cell_type": "code",
   "execution_count": null,
   "metadata": {},
   "outputs": [],
   "source": [
    "# Prepare the dataset\n",
    "def prepare_dataset(folder_names, base_path=\".\"):\n",
    "    X = []\n",
    "    y = []\n",
    "    for label, folder in enumerate(folder_names):\n",
    "        folder_path = os.path.join(base_path, folder)\n",
    "        print(f\"\\nProcessing folder: {folder_path}\")\n",
    "        if not os.path.exists(folder_path):\n",
    "            print(f\"Warning: Folder {folder_path} does not exist\")\n",
    "            continue\n",
    "        files = [f for f in os.listdir(folder_path) if f.lower().endswith(('.wav', '.mp3', '.m4a', '.ogg'))]\n",
    "        print(f\"Found {len(files)} audio files in {folder}\")\n",
    "        for file in files:\n",
    "            file_path = os.path.join(folder_path, file)\n",
    "            features = extract_features(file_path)\n",
    "            if features is not None:\n",
    "                X.append(features)\n",
    "                y.append(label)\n",
    "            else:\n",
    "                print(f\"Failed to process {file}\")\n",
    "    print(f\"\\nTotal samples processed: {len(X)}\")\n",
    "    return np.array(X), np.array(y)"
   ]
  },
  {
   "cell_type": "code",
   "execution_count": null,
   "metadata": {},
   "outputs": [],
   "source": [
    "# Random Forest Classifier\n",
    "def train_random_forest(X_train, X_test, y_train, y_test):\n",
    "    print(\"\\nTraining Random Forest classifier...\")\n",
    "    rf_classifier = RandomForestClassifier(n_estimators=100, random_state=42)\n",
    "    rf_classifier.fit(X_train, y_train)\n",
    "    y_pred = rf_classifier.predict(X_test)\n",
    "    accuracy = accuracy_score(y_test, y_pred)\n",
    "    print(f\"Random Forest Accuracy: {accuracy * 100:.2f}%\")\n",
    "    return rf_classifier"
   ]
  },
  {
   "cell_type": "code",
   "execution_count": null,
   "metadata": {},
   "outputs": [],
   "source": [
    "# XGBoost Classifier\n",
    "def train_xgboost(X_train, X_test, y_train, y_test):\n",
    "    print(\"\\nTraining XGBoost classifier...\")\n",
    "    xgb_classifier = XGBClassifier(n_estimators=100, random_state=42, use_label_encoder=False, eval_metric='mlogloss')\n",
    "    xgb_classifier.fit(X_train, y_train)\n",
    "    y_pred = xgb_classifier.predict(X_test)\n",
    "    accuracy = accuracy_score(y_test, y_pred)\n",
    "    print(f\"XGBoost Accuracy: {accuracy * 100:.2f}%\")\n",
    "    return xgb_classifier"
   ]
  },
  {
   "cell_type": "code",
   "execution_count": null,
   "metadata": {},
   "outputs": [],
   "source": [
    "# SVM with RBF Kernel\n",
    "def train_svm_rbf(X_train, X_test, y_train, y_test):\n",
    "    print(\"\\nTraining SVM (RBF Kernel) classifier...\")\n",
    "    scaler = StandardScaler()\n",
    "    X_train_scaled = scaler.fit_transform(X_train)\n",
    "    X_test_scaled = scaler.transform(X_test)\n",
    "    svm_classifier = SVC(kernel='rbf', random_state=42)\n",
    "    svm_classifier.fit(X_train_scaled, y_train)\n",
    "    y_pred = svm_classifier.predict(X_test_scaled)\n",
    "    accuracy = accuracy_score(y_test, y_pred)\n",
    "    print(f\"SVM (RBF) Accuracy: {accuracy * 100:.2f}%\")\n",
    "    return svm_classifier, scaler"
   ]
  },
  {
   "cell_type": "code",
   "execution_count": null,
   "metadata": {},
   "outputs": [],
   "source": [
    "# Logistic Regression\n",
    "def train_logistic_regression(X_train, X_test, y_train, y_test):\n",
    "    print(\"\\nTraining Logistic Regression classifier...\")\n",
    "    scaler = StandardScaler()\n",
    "    X_train_scaled = scaler.fit_transform(X_train)\n",
    "    X_test_scaled = scaler.transform(X_test)\n",
    "    lr_classifier = LogisticRegression(random_state=42, max_iter=1000)\n",
    "    lr_classifier.fit(X_train_scaled, y_train)\n",
    "    y_pred = lr_classifier.predict(X_test_scaled)\n",
    "    accuracy = accuracy_score(y_test, y_pred)\n",
    "    print(f\"Logistic Regression Accuracy: {accuracy * 100:.2f}%\")\n",
    "    return lr_classifier, scaler"
   ]
  },
  {
   "cell_type": "code",
   "execution_count": null,
   "metadata": {},
   "outputs": [],
   "source": [
    "# k-Nearest Neighbors\n",
    "def train_knn(X_train, X_test, y_train, y_test):\n",
    "    print(\"\\nTraining k-Nearest Neighbors classifier...\")\n",
    "    scaler = StandardScaler()\n",
    "    X_train_scaled = scaler.fit_transform(X_train)\n",
    "    X_test_scaled = scaler.transform(X_test)\n",
    "    knn_classifier = KNeighborsClassifier(n_neighbors=5)\n",
    "    knn_classifier.fit(X_train_scaled, y_train)\n",
    "    y_pred = knn_classifier.predict(X_test_scaled)\n",
    "    accuracy = accuracy_score(y_test, y_pred)\n",
    "    print(f\"k-NN Accuracy: {accuracy * 100:.2f}%\")\n",
    "    return knn_classifier, scaler"
   ]
  },
  {
   "cell_type": "code",
   "execution_count": null,
   "metadata": {},
   "outputs": [],
   "source": [
    "# Gradient Boosting Classifier (sklearn)\n",
    "def train_gradient_boosting(X_train, X_test, y_train, y_test):\n",
    "    print(\"\\nTraining Gradient Boosting classifier...\")\n",
    "    gb_classifier = GradientBoostingClassifier(n_estimators=100, random_state=42)\n",
    "    gb_classifier.fit(X_train, y_train)\n",
    "    y_pred = gb_classifier.predict(X_test)\n",
    "    accuracy = accuracy_score(y_test, y_pred)\n",
    "    print(f\"Gradient Boosting Accuracy: {accuracy * 100:.2f}%\")\n",
    "    return gb_classifier"
   ]
  },
  {
   "cell_type": "code",
   "execution_count": null,
   "metadata": {},
   "outputs": [],
   "source": [
    "# Gaussian Naive Bayes\n",
    "def train_naive_bayes(X_train, X_test, y_train, y_test):\n",
    "    print(\"\\nTraining Gaussian Naive Bayes classifier...\")\n",
    "    nb_classifier = GaussianNB()\n",
    "    nb_classifier.fit(X_train, y_train)\n",
    "    y_pred = nb_classifier.predict(X_test)\n",
    "    accuracy = accuracy_score(y_test, y_pred)\n",
    "    print(f\"Naive Bayes Accuracy: {accuracy * 100:.2f}%\")\n",
    "    return nb_classifier"
   ]
  },
  {
   "cell_type": "code",
   "execution_count": null,
   "metadata": {},
   "outputs": [],
   "source": [
    "# Multi-Layer Perceptron (Neural Network)\n",
    "def train_mlp(X_train, X_test, y_train, y_test):\n",
    "    print(\"\\nTraining Multi-Layer Perceptron classifier...\")\n",
    "    scaler = StandardScaler()\n",
    "    X_train_scaled = scaler.fit_transform(X_train)\n",
    "    X_test_scaled = scaler.transform(X_test)\n",
    "    mlp_classifier = MLPClassifier(hidden_layer_sizes=(100,), max_iter=500, random_state=42)\n",
    "    mlp_classifier.fit(X_train_scaled, y_train)\n",
    "    y_pred = mlp_classifier.predict(X_test_scaled)\n",
    "    accuracy = accuracy_score(y_test, y_pred)\n",
    "    print(f\"MLP Accuracy: {accuracy * 100:.2f}%\")\n",
    "    return mlp_classifier, scaler"
   ]
  },
  {
   "cell_type": "code",
   "execution_count": null,
   "metadata": {},
   "outputs": [],
   "source": []
  },
  {
   "cell_type": "code",
   "execution_count": null,
   "metadata": {},
   "outputs": [],
   "source": [
    "# Main execution\n",
    "def main():\n",
    "    folder_names = ['belly_pain', 'burping', 'discomfort', 'hungry', 'tired']\n",
    "    \n",
    "    print(\"Starting dataset preparation...\")\n",
    "    X, y = prepare_dataset(folder_names)\n",
    "    \n",
    "    # Split the dataset into training and testing sets\n",
    "    X_train, X_test, y_train, y_test = train_test_split(\n",
    "        X, y, test_size=0.2, random_state=42\n",
    "    )\n",
    "    \n",
    "    print(f\"\\nTraining set size: {len(X_train)}\")\n",
    "    print(f\"Testing set size: {len(X_test)}\")\n",
    "    \n",
    "    # Dictionary to store accuracies\n",
    "    accuracies = {}\n",
    "    \n",
    "    # Train and evaluate each algorithm, store accuracies\n",
    "    rf_classifier = train_random_forest(X_train, X_test, y_train, y_test)\n",
    "    accuracies['rf'] = accuracy_score(y_test, rf_classifier.predict(X_test))\n",
    "    \n",
    "    xgb_classifier = train_xgboost(X_train, X_test, y_train, y_test)\n",
    "    accuracies['xgb'] = accuracy_score(y_test, xgb_classifier.predict(X_test))\n",
    "    \n",
    "    svm_classifier, svm_scaler = train_svm_rbf(X_train, X_test, y_train, y_test)\n",
    "    accuracies['svm'] = accuracy_score(y_test, svm_classifier.predict(svm_scaler.transform(X_test)))\n",
    "    \n",
    "    lr_classifier, lr_scaler = train_logistic_regression(X_train, X_test, y_train, y_test)\n",
    "    accuracies['lr'] = accuracy_score(y_test, lr_classifier.predict(lr_scaler.transform(X_test)))\n",
    "    \n",
    "    knn_classifier, knn_scaler = train_knn(X_train, X_test, y_train, y_test)\n",
    "    accuracies['knn'] = accuracy_score(y_test, knn_classifier.predict(knn_scaler.transform(X_test)))\n",
    "    \n",
    "    gb_classifier = train_gradient_boosting(X_train, X_test, y_train, y_test)\n",
    "    accuracies['gb'] = accuracy_score(y_test, gb_classifier.predict(X_test))\n",
    "    \n",
    "    nb_classifier = train_naive_bayes(X_train, X_test, y_train, y_test)\n",
    "    accuracies['nb'] = accuracy_score(y_test, nb_classifier.predict(X_test))\n",
    "    \n",
    "    mlp_classifier, mlp_scaler = train_mlp(X_train, X_test, y_train, y_test)\n",
    "    accuracies['mlp'] = accuracy_score(y_test, mlp_classifier.predict(mlp_scaler.transform(X_test)))\n",
    "    \n",
    "    # Print accuracies in descending order\n",
    "    print(\"\\nModel Accuracies (High to Low):\")\n",
    "    for model_name, accuracy in sorted(accuracies.items(), key=lambda x: x[1], reverse=True):\n",
    "        print(f\"{model_name.upper()} -> {accuracy * 100:.2f}%\")\n",
    "    \n",
    "    # Return classifiers and scalers for prediction function\n",
    "    def predict_audio(file_path, classifier, scaler=None):\n",
    "        features = extract_features(file_path)\n",
    "        if features is not None:\n",
    "            if scaler is not None:  # Scale features for models that need it\n",
    "                features = scaler.transform([features])\n",
    "            else:\n",
    "                features = [features]\n",
    "            prediction = classifier.predict(features)[0]\n",
    "            return folder_names[prediction]\n",
    "        return None\n",
    "    \n",
    "    return {\n",
    "        'rf': (rf_classifier, None),\n",
    "        'xgb': (xgb_classifier, None),\n",
    "        'svm': (svm_classifier, svm_scaler),\n",
    "        'lr': (lr_classifier, lr_scaler),\n",
    "        'knn': (knn_classifier, knn_scaler),\n",
    "        'gb': (gb_classifier, None),\n",
    "        'nb': (nb_classifier, None),\n",
    "        'mlp': (mlp_classifier, mlp_scaler)\n",
    "    }, predict_audio"
   ]
  },
  {
   "cell_type": "code",
   "execution_count": null,
   "metadata": {},
   "outputs": [],
   "source": [
    "# Execute and test\n",
    "classifiers, predict_function = main()"
   ]
  },
  {
   "cell_type": "code",
   "execution_count": null,
   "metadata": {},
   "outputs": [],
   "source": [
    "# Test prediction with all models\n",
    "test_file = \"D:\\defence\\model\\donateacry_corpus_cleaned_and_updated_data\\discomfort\\\\1309B82C-F146-46F0-A723-45345AFA6EA8-1430703937-1.0-f-48-dc.wav\"\n",
    "print(\"\\nPredictions for test file:\")\n",
    "for model_name, (classifier, scaler) in classifiers.items():\n",
    "    prediction = predict_function(test_file, classifier, scaler)\n",
    "    print(f\"{model_name.upper()} Prediction: {prediction}\")"
   ]
  }
 ],
 "metadata": {
  "kernelspec": {
   "display_name": "Python 3",
   "language": "python",
   "name": "python3"
  },
  "language_info": {
   "codemirror_mode": {
    "name": "ipython",
    "version": 3
   },
   "file_extension": ".py",
   "mimetype": "text/x-python",
   "name": "python",
   "nbconvert_exporter": "python",
   "pygments_lexer": "ipython3",
   "version": "3.10.16"
  }
 },
 "nbformat": 4,
 "nbformat_minor": 2
}
